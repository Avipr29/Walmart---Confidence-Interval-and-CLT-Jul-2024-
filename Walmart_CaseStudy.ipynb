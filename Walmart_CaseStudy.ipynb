{
  "nbformat": 4,
  "nbformat_minor": 0,
  "metadata": {
    "colab": {
      "provenance": [],
      "toc_visible": true
    },
    "kernelspec": {
      "name": "python3",
      "display_name": "Python 3"
    },
    "language_info": {
      "name": "python"
    }
  },
  "cells": [
    {
      "cell_type": "markdown",
      "source": [
        "# 1.Introduction"
      ],
      "metadata": {
        "id": "MnVN3hXYhDno"
      }
    },
    {
      "cell_type": "markdown",
      "source": [
        "**About Walmart**\n",
        "\n",
        "Walmart is an American multinational retail corporation that operates a chain of supercenters, discount departmental stores, and grocery stores from the United States. Walmart has more than 100 million customers worldwide."
      ],
      "metadata": {
        "id": "yAp9JEL_hKTu"
      }
    },
    {
      "cell_type": "markdown",
      "source": [
        "**Business Problem**\n",
        "\n",
        " The Management team at Walmart Inc. wants to analyze the customer purchase behavior (specifically, purchase amount) against the customer’s gender and the various other factors to help the business make better decisions. They want to understand if the spending habits differ between male and female customers: Do women spend more on Black Friday than men?"
      ],
      "metadata": {
        "id": "vm3y3oachcHu"
      }
    },
    {
      "cell_type": "markdown",
      "source": [
        "# 2.0 Exploratory Data Analysis"
      ],
      "metadata": {
        "id": "RqehWKTAUX2Y"
      }
    },
    {
      "cell_type": "code",
      "source": [
        "df.sample(10)"
      ],
      "metadata": {
        "colab": {
          "base_uri": "https://localhost:8080/",
          "height": 522
        },
        "id": "oyNsumaMBZQM",
        "outputId": "5f65c6e8-301f-4549-8ba5-e983ca1818aa"
      },
      "execution_count": null,
      "outputs": [
        {
          "output_type": "execute_result",
          "data": {
            "text/plain": [
              "        User_ID Product_ID Gender    Age  Occupation City_Category  \\\n",
              "203754  1001447  P00116542      M  18-25           4             A   \n",
              "309709  1005738  P00182342      M  26-35          12             A   \n",
              "29345   1004458  P00010842      F  26-35           4             B   \n",
              "3660    1000594  P00192942      F    55+          13             B   \n",
              "95406   1002776  P00302742      M  26-35          14             C   \n",
              "278003  1000881  P00186242      M  18-25          14             A   \n",
              "273223  1000081  P00114042      F  26-35           0             A   \n",
              "178599  1003618  P00043542      M    55+          17             A   \n",
              "416932  1004124  P00226342      M  26-35          18             C   \n",
              "534187  1004250  P00189142      F  51-55           0             C   \n",
              "\n",
              "       Stay_In_Current_City_Years  Marital_Status  Product_Category  Purchase  \n",
              "203754                          0               0                 5      8610  \n",
              "309709                          1               1                 1      4257  \n",
              "29345                           1               0                 8      5884  \n",
              "3660                            3               0                 5      6904  \n",
              "95406                          4+               0                 8      8133  \n",
              "278003                          1               0                 4      1422  \n",
              "273223                          1               1                 5      7073  \n",
              "178599                         4+               1                 8      5843  \n",
              "416932                          1               1                11      4507  \n",
              "534187                         4+               1                 8      7802  "
            ],
            "text/html": [
              "\n",
              "  <div id=\"df-b3751faa-4f73-4877-bab6-699090af8f11\" class=\"colab-df-container\">\n",
              "    <div>\n",
              "<style scoped>\n",
              "    .dataframe tbody tr th:only-of-type {\n",
              "        vertical-align: middle;\n",
              "    }\n",
              "\n",
              "    .dataframe tbody tr th {\n",
              "        vertical-align: top;\n",
              "    }\n",
              "\n",
              "    .dataframe thead th {\n",
              "        text-align: right;\n",
              "    }\n",
              "</style>\n",
              "<table border=\"1\" class=\"dataframe\">\n",
              "  <thead>\n",
              "    <tr style=\"text-align: right;\">\n",
              "      <th></th>\n",
              "      <th>User_ID</th>\n",
              "      <th>Product_ID</th>\n",
              "      <th>Gender</th>\n",
              "      <th>Age</th>\n",
              "      <th>Occupation</th>\n",
              "      <th>City_Category</th>\n",
              "      <th>Stay_In_Current_City_Years</th>\n",
              "      <th>Marital_Status</th>\n",
              "      <th>Product_Category</th>\n",
              "      <th>Purchase</th>\n",
              "    </tr>\n",
              "  </thead>\n",
              "  <tbody>\n",
              "    <tr>\n",
              "      <th>203754</th>\n",
              "      <td>1001447</td>\n",
              "      <td>P00116542</td>\n",
              "      <td>M</td>\n",
              "      <td>18-25</td>\n",
              "      <td>4</td>\n",
              "      <td>A</td>\n",
              "      <td>0</td>\n",
              "      <td>0</td>\n",
              "      <td>5</td>\n",
              "      <td>8610</td>\n",
              "    </tr>\n",
              "    <tr>\n",
              "      <th>309709</th>\n",
              "      <td>1005738</td>\n",
              "      <td>P00182342</td>\n",
              "      <td>M</td>\n",
              "      <td>26-35</td>\n",
              "      <td>12</td>\n",
              "      <td>A</td>\n",
              "      <td>1</td>\n",
              "      <td>1</td>\n",
              "      <td>1</td>\n",
              "      <td>4257</td>\n",
              "    </tr>\n",
              "    <tr>\n",
              "      <th>29345</th>\n",
              "      <td>1004458</td>\n",
              "      <td>P00010842</td>\n",
              "      <td>F</td>\n",
              "      <td>26-35</td>\n",
              "      <td>4</td>\n",
              "      <td>B</td>\n",
              "      <td>1</td>\n",
              "      <td>0</td>\n",
              "      <td>8</td>\n",
              "      <td>5884</td>\n",
              "    </tr>\n",
              "    <tr>\n",
              "      <th>3660</th>\n",
              "      <td>1000594</td>\n",
              "      <td>P00192942</td>\n",
              "      <td>F</td>\n",
              "      <td>55+</td>\n",
              "      <td>13</td>\n",
              "      <td>B</td>\n",
              "      <td>3</td>\n",
              "      <td>0</td>\n",
              "      <td>5</td>\n",
              "      <td>6904</td>\n",
              "    </tr>\n",
              "    <tr>\n",
              "      <th>95406</th>\n",
              "      <td>1002776</td>\n",
              "      <td>P00302742</td>\n",
              "      <td>M</td>\n",
              "      <td>26-35</td>\n",
              "      <td>14</td>\n",
              "      <td>C</td>\n",
              "      <td>4+</td>\n",
              "      <td>0</td>\n",
              "      <td>8</td>\n",
              "      <td>8133</td>\n",
              "    </tr>\n",
              "    <tr>\n",
              "      <th>278003</th>\n",
              "      <td>1000881</td>\n",
              "      <td>P00186242</td>\n",
              "      <td>M</td>\n",
              "      <td>18-25</td>\n",
              "      <td>14</td>\n",
              "      <td>A</td>\n",
              "      <td>1</td>\n",
              "      <td>0</td>\n",
              "      <td>4</td>\n",
              "      <td>1422</td>\n",
              "    </tr>\n",
              "    <tr>\n",
              "      <th>273223</th>\n",
              "      <td>1000081</td>\n",
              "      <td>P00114042</td>\n",
              "      <td>F</td>\n",
              "      <td>26-35</td>\n",
              "      <td>0</td>\n",
              "      <td>A</td>\n",
              "      <td>1</td>\n",
              "      <td>1</td>\n",
              "      <td>5</td>\n",
              "      <td>7073</td>\n",
              "    </tr>\n",
              "    <tr>\n",
              "      <th>178599</th>\n",
              "      <td>1003618</td>\n",
              "      <td>P00043542</td>\n",
              "      <td>M</td>\n",
              "      <td>55+</td>\n",
              "      <td>17</td>\n",
              "      <td>A</td>\n",
              "      <td>4+</td>\n",
              "      <td>1</td>\n",
              "      <td>8</td>\n",
              "      <td>5843</td>\n",
              "    </tr>\n",
              "    <tr>\n",
              "      <th>416932</th>\n",
              "      <td>1004124</td>\n",
              "      <td>P00226342</td>\n",
              "      <td>M</td>\n",
              "      <td>26-35</td>\n",
              "      <td>18</td>\n",
              "      <td>C</td>\n",
              "      <td>1</td>\n",
              "      <td>1</td>\n",
              "      <td>11</td>\n",
              "      <td>4507</td>\n",
              "    </tr>\n",
              "    <tr>\n",
              "      <th>534187</th>\n",
              "      <td>1004250</td>\n",
              "      <td>P00189142</td>\n",
              "      <td>F</td>\n",
              "      <td>51-55</td>\n",
              "      <td>0</td>\n",
              "      <td>C</td>\n",
              "      <td>4+</td>\n",
              "      <td>1</td>\n",
              "      <td>8</td>\n",
              "      <td>7802</td>\n",
              "    </tr>\n",
              "  </tbody>\n",
              "</table>\n",
              "</div>\n",
              "    <div class=\"colab-df-buttons\">\n",
              "\n",
              "  <div class=\"colab-df-container\">\n",
              "    <button class=\"colab-df-convert\" onclick=\"convertToInteractive('df-b3751faa-4f73-4877-bab6-699090af8f11')\"\n",
              "            title=\"Convert this dataframe to an interactive table.\"\n",
              "            style=\"display:none;\">\n",
              "\n",
              "  <svg xmlns=\"http://www.w3.org/2000/svg\" height=\"24px\" viewBox=\"0 -960 960 960\">\n",
              "    <path d=\"M120-120v-720h720v720H120Zm60-500h600v-160H180v160Zm220 220h160v-160H400v160Zm0 220h160v-160H400v160ZM180-400h160v-160H180v160Zm440 0h160v-160H620v160ZM180-180h160v-160H180v160Zm440 0h160v-160H620v160Z\"/>\n",
              "  </svg>\n",
              "    </button>\n",
              "\n",
              "  <style>\n",
              "    .colab-df-container {\n",
              "      display:flex;\n",
              "      gap: 12px;\n",
              "    }\n",
              "\n",
              "    .colab-df-convert {\n",
              "      background-color: #E8F0FE;\n",
              "      border: none;\n",
              "      border-radius: 50%;\n",
              "      cursor: pointer;\n",
              "      display: none;\n",
              "      fill: #1967D2;\n",
              "      height: 32px;\n",
              "      padding: 0 0 0 0;\n",
              "      width: 32px;\n",
              "    }\n",
              "\n",
              "    .colab-df-convert:hover {\n",
              "      background-color: #E2EBFA;\n",
              "      box-shadow: 0px 1px 2px rgba(60, 64, 67, 0.3), 0px 1px 3px 1px rgba(60, 64, 67, 0.15);\n",
              "      fill: #174EA6;\n",
              "    }\n",
              "\n",
              "    .colab-df-buttons div {\n",
              "      margin-bottom: 4px;\n",
              "    }\n",
              "\n",
              "    [theme=dark] .colab-df-convert {\n",
              "      background-color: #3B4455;\n",
              "      fill: #D2E3FC;\n",
              "    }\n",
              "\n",
              "    [theme=dark] .colab-df-convert:hover {\n",
              "      background-color: #434B5C;\n",
              "      box-shadow: 0px 1px 3px 1px rgba(0, 0, 0, 0.15);\n",
              "      filter: drop-shadow(0px 1px 2px rgba(0, 0, 0, 0.3));\n",
              "      fill: #FFFFFF;\n",
              "    }\n",
              "  </style>\n",
              "\n",
              "    <script>\n",
              "      const buttonEl =\n",
              "        document.querySelector('#df-b3751faa-4f73-4877-bab6-699090af8f11 button.colab-df-convert');\n",
              "      buttonEl.style.display =\n",
              "        google.colab.kernel.accessAllowed ? 'block' : 'none';\n",
              "\n",
              "      async function convertToInteractive(key) {\n",
              "        const element = document.querySelector('#df-b3751faa-4f73-4877-bab6-699090af8f11');\n",
              "        const dataTable =\n",
              "          await google.colab.kernel.invokeFunction('convertToInteractive',\n",
              "                                                    [key], {});\n",
              "        if (!dataTable) return;\n",
              "\n",
              "        const docLinkHtml = 'Like what you see? Visit the ' +\n",
              "          '<a target=\"_blank\" href=https://colab.research.google.com/notebooks/data_table.ipynb>data table notebook</a>'\n",
              "          + ' to learn more about interactive tables.';\n",
              "        element.innerHTML = '';\n",
              "        dataTable['output_type'] = 'display_data';\n",
              "        await google.colab.output.renderOutput(dataTable, element);\n",
              "        const docLink = document.createElement('div');\n",
              "        docLink.innerHTML = docLinkHtml;\n",
              "        element.appendChild(docLink);\n",
              "      }\n",
              "    </script>\n",
              "  </div>\n",
              "\n",
              "\n",
              "<div id=\"df-5547e37c-695e-4e42-8c8a-145a580ee2a7\">\n",
              "  <button class=\"colab-df-quickchart\" onclick=\"quickchart('df-5547e37c-695e-4e42-8c8a-145a580ee2a7')\"\n",
              "            title=\"Suggest charts\"\n",
              "            style=\"display:none;\">\n",
              "\n",
              "<svg xmlns=\"http://www.w3.org/2000/svg\" height=\"24px\"viewBox=\"0 0 24 24\"\n",
              "     width=\"24px\">\n",
              "    <g>\n",
              "        <path d=\"M19 3H5c-1.1 0-2 .9-2 2v14c0 1.1.9 2 2 2h14c1.1 0 2-.9 2-2V5c0-1.1-.9-2-2-2zM9 17H7v-7h2v7zm4 0h-2V7h2v10zm4 0h-2v-4h2v4z\"/>\n",
              "    </g>\n",
              "</svg>\n",
              "  </button>\n",
              "\n",
              "<style>\n",
              "  .colab-df-quickchart {\n",
              "      --bg-color: #E8F0FE;\n",
              "      --fill-color: #1967D2;\n",
              "      --hover-bg-color: #E2EBFA;\n",
              "      --hover-fill-color: #174EA6;\n",
              "      --disabled-fill-color: #AAA;\n",
              "      --disabled-bg-color: #DDD;\n",
              "  }\n",
              "\n",
              "  [theme=dark] .colab-df-quickchart {\n",
              "      --bg-color: #3B4455;\n",
              "      --fill-color: #D2E3FC;\n",
              "      --hover-bg-color: #434B5C;\n",
              "      --hover-fill-color: #FFFFFF;\n",
              "      --disabled-bg-color: #3B4455;\n",
              "      --disabled-fill-color: #666;\n",
              "  }\n",
              "\n",
              "  .colab-df-quickchart {\n",
              "    background-color: var(--bg-color);\n",
              "    border: none;\n",
              "    border-radius: 50%;\n",
              "    cursor: pointer;\n",
              "    display: none;\n",
              "    fill: var(--fill-color);\n",
              "    height: 32px;\n",
              "    padding: 0;\n",
              "    width: 32px;\n",
              "  }\n",
              "\n",
              "  .colab-df-quickchart:hover {\n",
              "    background-color: var(--hover-bg-color);\n",
              "    box-shadow: 0 1px 2px rgba(60, 64, 67, 0.3), 0 1px 3px 1px rgba(60, 64, 67, 0.15);\n",
              "    fill: var(--button-hover-fill-color);\n",
              "  }\n",
              "\n",
              "  .colab-df-quickchart-complete:disabled,\n",
              "  .colab-df-quickchart-complete:disabled:hover {\n",
              "    background-color: var(--disabled-bg-color);\n",
              "    fill: var(--disabled-fill-color);\n",
              "    box-shadow: none;\n",
              "  }\n",
              "\n",
              "  .colab-df-spinner {\n",
              "    border: 2px solid var(--fill-color);\n",
              "    border-color: transparent;\n",
              "    border-bottom-color: var(--fill-color);\n",
              "    animation:\n",
              "      spin 1s steps(1) infinite;\n",
              "  }\n",
              "\n",
              "  @keyframes spin {\n",
              "    0% {\n",
              "      border-color: transparent;\n",
              "      border-bottom-color: var(--fill-color);\n",
              "      border-left-color: var(--fill-color);\n",
              "    }\n",
              "    20% {\n",
              "      border-color: transparent;\n",
              "      border-left-color: var(--fill-color);\n",
              "      border-top-color: var(--fill-color);\n",
              "    }\n",
              "    30% {\n",
              "      border-color: transparent;\n",
              "      border-left-color: var(--fill-color);\n",
              "      border-top-color: var(--fill-color);\n",
              "      border-right-color: var(--fill-color);\n",
              "    }\n",
              "    40% {\n",
              "      border-color: transparent;\n",
              "      border-right-color: var(--fill-color);\n",
              "      border-top-color: var(--fill-color);\n",
              "    }\n",
              "    60% {\n",
              "      border-color: transparent;\n",
              "      border-right-color: var(--fill-color);\n",
              "    }\n",
              "    80% {\n",
              "      border-color: transparent;\n",
              "      border-right-color: var(--fill-color);\n",
              "      border-bottom-color: var(--fill-color);\n",
              "    }\n",
              "    90% {\n",
              "      border-color: transparent;\n",
              "      border-bottom-color: var(--fill-color);\n",
              "    }\n",
              "  }\n",
              "</style>\n",
              "\n",
              "  <script>\n",
              "    async function quickchart(key) {\n",
              "      const quickchartButtonEl =\n",
              "        document.querySelector('#' + key + ' button');\n",
              "      quickchartButtonEl.disabled = true;  // To prevent multiple clicks.\n",
              "      quickchartButtonEl.classList.add('colab-df-spinner');\n",
              "      try {\n",
              "        const charts = await google.colab.kernel.invokeFunction(\n",
              "            'suggestCharts', [key], {});\n",
              "      } catch (error) {\n",
              "        console.error('Error during call to suggestCharts:', error);\n",
              "      }\n",
              "      quickchartButtonEl.classList.remove('colab-df-spinner');\n",
              "      quickchartButtonEl.classList.add('colab-df-quickchart-complete');\n",
              "    }\n",
              "    (() => {\n",
              "      let quickchartButtonEl =\n",
              "        document.querySelector('#df-5547e37c-695e-4e42-8c8a-145a580ee2a7 button');\n",
              "      quickchartButtonEl.style.display =\n",
              "        google.colab.kernel.accessAllowed ? 'block' : 'none';\n",
              "    })();\n",
              "  </script>\n",
              "</div>\n",
              "\n",
              "    </div>\n",
              "  </div>\n"
            ],
            "application/vnd.google.colaboratory.intrinsic+json": {
              "type": "dataframe",
              "summary": "{\n  \"name\": \"df\",\n  \"rows\": 10,\n  \"fields\": [\n    {\n      \"column\": \"User_ID\",\n      \"properties\": {\n        \"dtype\": \"number\",\n        \"std\": 1934,\n        \"min\": 1000081,\n        \"max\": 1005738,\n        \"num_unique_values\": 10,\n        \"samples\": [\n          1004124,\n          1005738,\n          1000881\n        ],\n        \"semantic_type\": \"\",\n        \"description\": \"\"\n      }\n    },\n    {\n      \"column\": \"Product_ID\",\n      \"properties\": {\n        \"dtype\": \"string\",\n        \"num_unique_values\": 10,\n        \"samples\": [\n          \"P00226342\",\n          \"P00182342\",\n          \"P00186242\"\n        ],\n        \"semantic_type\": \"\",\n        \"description\": \"\"\n      }\n    },\n    {\n      \"column\": \"Gender\",\n      \"properties\": {\n        \"dtype\": \"category\",\n        \"num_unique_values\": 2,\n        \"samples\": [\n          \"F\",\n          \"M\"\n        ],\n        \"semantic_type\": \"\",\n        \"description\": \"\"\n      }\n    },\n    {\n      \"column\": \"Age\",\n      \"properties\": {\n        \"dtype\": \"category\",\n        \"num_unique_values\": 4,\n        \"samples\": [\n          \"26-35\",\n          \"51-55\"\n        ],\n        \"semantic_type\": \"\",\n        \"description\": \"\"\n      }\n    },\n    {\n      \"column\": \"Occupation\",\n      \"properties\": {\n        \"dtype\": \"number\",\n        \"std\": 6,\n        \"min\": 0,\n        \"max\": 18,\n        \"num_unique_values\": 7,\n        \"samples\": [\n          4,\n          12\n        ],\n        \"semantic_type\": \"\",\n        \"description\": \"\"\n      }\n    },\n    {\n      \"column\": \"City_Category\",\n      \"properties\": {\n        \"dtype\": \"category\",\n        \"num_unique_values\": 3,\n        \"samples\": [\n          \"A\",\n          \"B\"\n        ],\n        \"semantic_type\": \"\",\n        \"description\": \"\"\n      }\n    },\n    {\n      \"column\": \"Stay_In_Current_City_Years\",\n      \"properties\": {\n        \"dtype\": \"category\",\n        \"num_unique_values\": 4,\n        \"samples\": [\n          \"1\",\n          \"4+\"\n        ],\n        \"semantic_type\": \"\",\n        \"description\": \"\"\n      }\n    },\n    {\n      \"column\": \"Marital_Status\",\n      \"properties\": {\n        \"dtype\": \"number\",\n        \"std\": 0,\n        \"min\": 0,\n        \"max\": 1,\n        \"num_unique_values\": 2,\n        \"samples\": [\n          1,\n          0\n        ],\n        \"semantic_type\": \"\",\n        \"description\": \"\"\n      }\n    },\n    {\n      \"column\": \"Product_Category\",\n      \"properties\": {\n        \"dtype\": \"number\",\n        \"std\": 2,\n        \"min\": 1,\n        \"max\": 11,\n        \"num_unique_values\": 5,\n        \"samples\": [\n          1,\n          11\n        ],\n        \"semantic_type\": \"\",\n        \"description\": \"\"\n      }\n    },\n    {\n      \"column\": \"Purchase\",\n      \"properties\": {\n        \"dtype\": \"number\",\n        \"std\": 2181,\n        \"min\": 1422,\n        \"max\": 8610,\n        \"num_unique_values\": 10,\n        \"samples\": [\n          4507,\n          4257\n        ],\n        \"semantic_type\": \"\",\n        \"description\": \"\"\n      }\n    }\n  ]\n}"
            }
          },
          "metadata": {},
          "execution_count": 518
        }
      ]
    },
    {
      "cell_type": "markdown",
      "source": [
        "***Observations -***\n",
        "- We got 10 columns and from the look of things, the only column we can consider right as a Numerical varible type is *'Product Column'*.\n",
        " - All other columns are under the categorical variable category.\n",
        "\n",
        "***Required Action -***\n",
        "- Checking if the columsn have the correct datatype and if not, the respective columns needed to be changed to their appropriate datatype."
      ],
      "metadata": {
        "id": "_NLPDqJRLfoR"
      }
    },
    {
      "cell_type": "code",
      "source": [
        "df.shape"
      ],
      "metadata": {
        "colab": {
          "base_uri": "https://localhost:8080/"
        },
        "id": "HkgBxQmvW7P2",
        "outputId": "5b522f47-327b-4a7b-a49c-2092d5787d89"
      },
      "execution_count": null,
      "outputs": [
        {
          "output_type": "execute_result",
          "data": {
            "text/plain": [
              "(550068, 10)"
            ]
          },
          "metadata": {},
          "execution_count": 519
        }
      ]
    },
    {
      "cell_type": "code",
      "source": [
        "df.info()"
      ],
      "metadata": {
        "id": "g3MpjD3kBaYF",
        "colab": {
          "base_uri": "https://localhost:8080/"
        },
        "outputId": "4eccae1c-4d4f-400e-c7e7-624d125d55ed"
      },
      "execution_count": null,
      "outputs": [
        {
          "output_type": "stream",
          "name": "stdout",
          "text": [
            "<class 'pandas.core.frame.DataFrame'>\n",
            "RangeIndex: 550068 entries, 0 to 550067\n",
            "Data columns (total 10 columns):\n",
            " #   Column                      Non-Null Count   Dtype \n",
            "---  ------                      --------------   ----- \n",
            " 0   User_ID                     550068 non-null  int64 \n",
            " 1   Product_ID                  550068 non-null  object\n",
            " 2   Gender                      550068 non-null  object\n",
            " 3   Age                         550068 non-null  object\n",
            " 4   Occupation                  550068 non-null  int64 \n",
            " 5   City_Category               550068 non-null  object\n",
            " 6   Stay_In_Current_City_Years  550068 non-null  object\n",
            " 7   Marital_Status              550068 non-null  int64 \n",
            " 8   Product_Category            550068 non-null  int64 \n",
            " 9   Purchase                    550068 non-null  int64 \n",
            "dtypes: int64(5), object(5)\n",
            "memory usage: 42.0+ MB\n"
          ]
        }
      ]
    },
    {
      "cell_type": "markdown",
      "source": [
        "***Observation -***\n",
        "- The structure of the data frame consist of\n",
        " - 550068 columns and\n",
        " - 10 rows\n",
        "- The data types for the columns are not properly assigned.\n",
        "\n",
        "***Further Action -***\n",
        "- Each column should be assigned the appropriate datatype to suit out analysis."
      ],
      "metadata": {
        "id": "enho8A4cXuRp"
      }
    },
    {
      "cell_type": "code",
      "source": [
        "df_unique_check = df.copy()\n",
        "for i in df.columns:\n",
        "  if i == 'Purchase':\n",
        "    continue\n",
        "  df[i] = df[i].astype('category')\n",
        "df.info()"
      ],
      "metadata": {
        "colab": {
          "base_uri": "https://localhost:8080/"
        },
        "id": "4_BeWT7-LREL",
        "outputId": "ec8c184f-6b12-43f6-fe37-502df5c7b90f"
      },
      "execution_count": null,
      "outputs": [
        {
          "output_type": "stream",
          "name": "stdout",
          "text": [
            "<class 'pandas.core.frame.DataFrame'>\n",
            "RangeIndex: 550068 entries, 0 to 550067\n",
            "Data columns (total 10 columns):\n",
            " #   Column                      Non-Null Count   Dtype   \n",
            "---  ------                      --------------   -----   \n",
            " 0   User_ID                     550068 non-null  category\n",
            " 1   Product_ID                  550068 non-null  category\n",
            " 2   Gender                      550068 non-null  category\n",
            " 3   Age                         550068 non-null  category\n",
            " 4   Occupation                  550068 non-null  category\n",
            " 5   City_Category               550068 non-null  category\n",
            " 6   Stay_In_Current_City_Years  550068 non-null  category\n",
            " 7   Marital_Status              550068 non-null  category\n",
            " 8   Product_Category            550068 non-null  category\n",
            " 9   Purchase                    550068 non-null  int64   \n",
            "dtypes: category(9), int64(1)\n",
            "memory usage: 10.3 MB\n"
          ]
        }
      ]
    },
    {
      "cell_type": "markdown",
      "source": [
        "***Observations -***\n",
        "- All the columns except for the Purchase column is changed to \"Categorical Varibale\".\n",
        "\n",
        "***Further Action -***\n",
        "-"
      ],
      "metadata": {
        "id": "AMJc5wZpAz5i"
      }
    },
    {
      "cell_type": "markdown",
      "source": [
        "*Handling duplicates and analysis of Unique values -*"
      ],
      "metadata": {
        "id": "3twNsf8JBt9z"
      }
    },
    {
      "cell_type": "code",
      "source": [
        "df.nunique()"
      ],
      "metadata": {
        "colab": {
          "base_uri": "https://localhost:8080/"
        },
        "id": "lSkcwJ4l_93-",
        "outputId": "5fcfc29b-bb61-4ccd-c706-bfa1db990159"
      },
      "execution_count": null,
      "outputs": [
        {
          "output_type": "execute_result",
          "data": {
            "text/plain": [
              "User_ID                        5891\n",
              "Product_ID                     3631\n",
              "Gender                            2\n",
              "Age                               7\n",
              "Occupation                       21\n",
              "City_Category                     3\n",
              "Stay_In_Current_City_Years        5\n",
              "Marital_Status                    2\n",
              "Product_Category                 20\n",
              "Purchase                      18105\n",
              "dtype: int64"
            ]
          },
          "metadata": {},
          "execution_count": 522
        }
      ]
    },
    {
      "cell_type": "markdown",
      "source": [
        "***Observations -***\n",
        "- From the above line what we can understand that despite having 550068 rows we have just 5891 User_ID records.\n",
        "- This implies that this is a sales data where a single user will have multiple records which is based on their buying frequency.\n",
        "- Generally, with these kinds of data there are high chances of duplicate records since we don't have the sales_id to differentiate each sales.\n",
        "\n",
        "***Further Action -***\n",
        "- Find and remove the duplicates.\n",
        "- Make a summary with unique values to understand our dataset."
      ],
      "metadata": {
        "id": "8xkuQKuXDaWN"
      }
    },
    {
      "cell_type": "markdown",
      "source": [
        "*Finding the Unique value in each column*"
      ],
      "metadata": {
        "id": "SV6gNroQJNKr"
      }
    },
    {
      "cell_type": "code",
      "source": [
        "def unique_values():\n",
        "  for i in df_unique_check.columns:\n",
        "    if df_unique_check[i].dtype == 'int64':\n",
        "      print(f\"Unique values in {i} column are\")\n",
        "      print(np.sort(df_unique_check[i].unique()), end='\\n\\n')\n",
        "    else:\n",
        "      print(f\"Unique values in {i} column are\")\n",
        "      print(df_unique_check[i].unique(), end='\\n\\n')\n",
        "unique_values()"
      ],
      "metadata": {
        "colab": {
          "base_uri": "https://localhost:8080/"
        },
        "id": "LZCRh34cHtv7",
        "outputId": "5649d7d0-27d9-4abb-a234-ddace7691c5b"
      },
      "execution_count": null,
      "outputs": [
        {
          "output_type": "stream",
          "name": "stdout",
          "text": [
            "Unique values in User_ID column are\n",
            "[1000001 1000002 1000003 ... 1006038 1006039 1006040]\n",
            "\n",
            "Unique values in Product_ID column are\n",
            "['P00069042' 'P00248942' 'P00087842' ... 'P00370293' 'P00371644'\n",
            " 'P00370853']\n",
            "\n",
            "Unique values in Gender column are\n",
            "['F' 'M']\n",
            "\n",
            "Unique values in Age column are\n",
            "['0-17' '55+' '26-35' '46-50' '51-55' '36-45' '18-25']\n",
            "\n",
            "Unique values in Occupation column are\n",
            "[ 0  1  2  3  4  5  6  7  8  9 10 11 12 13 14 15 16 17 18 19 20]\n",
            "\n",
            "Unique values in City_Category column are\n",
            "['A' 'C' 'B']\n",
            "\n",
            "Unique values in Stay_In_Current_City_Years column are\n",
            "['2' '4+' '3' '1' '0']\n",
            "\n",
            "Unique values in Marital_Status column are\n",
            "[0 1]\n",
            "\n",
            "Unique values in Product_Category column are\n",
            "[ 1  2  3  4  5  6  7  8  9 10 11 12 13 14 15 16 17 18 19 20]\n",
            "\n",
            "Unique values in Purchase column are\n",
            "[   12    13    14 ... 23959 23960 23961]\n",
            "\n"
          ]
        }
      ]
    },
    {
      "cell_type": "markdown",
      "source": [
        "***Observations -***\n",
        "- The unique values are consolidated and sorted based on their datatype for the ease of\n",
        "analysis."
      ],
      "metadata": {
        "id": "vXa2GrHUITvn"
      }
    },
    {
      "cell_type": "code",
      "source": [
        "df['Marital_Status'] = df['Marital_Status'].replace({0:'Single', 1:'Married'})"
      ],
      "metadata": {
        "id": "cAsNfuyeRdg5"
      },
      "execution_count": null,
      "outputs": []
    },
    {
      "cell_type": "markdown",
      "source": [
        "*Finding if the columns are properly structured and making sure that there are no nested values*"
      ],
      "metadata": {
        "id": "NqgHNj1iJjgZ"
      }
    },
    {
      "cell_type": "code",
      "source": [
        "df[df.duplicated()].value_counts()"
      ],
      "metadata": {
        "colab": {
          "base_uri": "https://localhost:8080/"
        },
        "id": "DamDCK0mIlok",
        "outputId": "54e8f842-5f67-469a-f9a8-18c3f4b82ad7"
      },
      "execution_count": null,
      "outputs": [
        {
          "output_type": "execute_result",
          "data": {
            "text/plain": [
              "Series([], Name: count, dtype: int64)"
            ]
          },
          "metadata": {},
          "execution_count": 525
        }
      ]
    },
    {
      "cell_type": "markdown",
      "source": [
        "***Observations -***\n",
        "- There are no duplicate records and the dataset is complete.\n",
        "\n",
        "***Further Action -***\n",
        "- Checking the structure of the dataset."
      ],
      "metadata": {
        "id": "ztCnsET3OpGt"
      }
    },
    {
      "cell_type": "markdown",
      "source": [
        "*Checking for Nested Values*"
      ],
      "metadata": {
        "id": "TQEO9fPzPyFQ"
      }
    },
    {
      "cell_type": "code",
      "source": [
        "def nested_values_check():\n",
        "  df_check = df.copy() # Creating a copy to have the main dataframe unaffected.\n",
        "  for i in df_check.columns:\n",
        "    df_check[i] = df_check[i].astype('str')\n",
        "    if i == 'Purchase':\n",
        "      if df_check[i].str.contains(',').any()==False:\n",
        "        print(f\"{i} column--> Structured Properly\")\n",
        "      else:\n",
        "        print(f\"{i} column--> has Nested values\")\n",
        "    else:\n",
        "      if df_check[i].str.contains(',').any()==False:\n",
        "        print(f\"{i} column--> Structured Properly\", end = '\\n\\n')\n",
        "      else:\n",
        "        print(f\"{i} column--> has Nested values\", end = '\\n\\n')\n",
        "\n",
        "nested_values_check()"
      ],
      "metadata": {
        "colab": {
          "base_uri": "https://localhost:8080/"
        },
        "id": "_9PDiOmaNh29",
        "outputId": "7f698bf0-3352-4420-ee26-a8cbc4178a24"
      },
      "execution_count": null,
      "outputs": [
        {
          "output_type": "stream",
          "name": "stdout",
          "text": [
            "User_ID column--> Structured Properly\n",
            "\n",
            "Product_ID column--> Structured Properly\n",
            "\n",
            "Gender column--> Structured Properly\n",
            "\n",
            "Age column--> Structured Properly\n",
            "\n",
            "Occupation column--> Structured Properly\n",
            "\n",
            "City_Category column--> Structured Properly\n",
            "\n",
            "Stay_In_Current_City_Years column--> Structured Properly\n",
            "\n",
            "Marital_Status column--> Structured Properly\n",
            "\n",
            "Product_Category column--> Structured Properly\n",
            "\n",
            "Purchase column--> Structured Properly\n"
          ]
        }
      ]
    },
    {
      "cell_type": "markdown",
      "source": [
        "- It is clear that the data in out dataset is clean and structured properly to suit our analysis."
      ],
      "metadata": {
        "id": "aZwGfu9QQa1v"
      }
    },
    {
      "cell_type": "code",
      "source": [
        "df.describe(include=['category']).T"
      ],
      "metadata": {
        "colab": {
          "base_uri": "https://localhost:8080/",
          "height": 331
        },
        "id": "do-NpuO0RHZ3",
        "outputId": "d70643a5-bcf1-493e-f08b-09b8562cffe5"
      },
      "execution_count": null,
      "outputs": [
        {
          "output_type": "execute_result",
          "data": {
            "text/plain": [
              "                             count unique        top    freq\n",
              "User_ID                     550068   5891    1001680    1026\n",
              "Product_ID                  550068   3631  P00265242    1880\n",
              "Gender                      550068      2          M  414259\n",
              "Age                         550068      7      26-35  219587\n",
              "Occupation                  550068     21          4   72308\n",
              "City_Category               550068      3          B  231173\n",
              "Stay_In_Current_City_Years  550068      5          1  193821\n",
              "Marital_Status              550068      2     Single  324731\n",
              "Product_Category            550068     20          5  150933"
            ],
            "text/html": [
              "\n",
              "  <div id=\"df-53d7ca69-da76-48e1-8a8a-9f4585d87b2c\" class=\"colab-df-container\">\n",
              "    <div>\n",
              "<style scoped>\n",
              "    .dataframe tbody tr th:only-of-type {\n",
              "        vertical-align: middle;\n",
              "    }\n",
              "\n",
              "    .dataframe tbody tr th {\n",
              "        vertical-align: top;\n",
              "    }\n",
              "\n",
              "    .dataframe thead th {\n",
              "        text-align: right;\n",
              "    }\n",
              "</style>\n",
              "<table border=\"1\" class=\"dataframe\">\n",
              "  <thead>\n",
              "    <tr style=\"text-align: right;\">\n",
              "      <th></th>\n",
              "      <th>count</th>\n",
              "      <th>unique</th>\n",
              "      <th>top</th>\n",
              "      <th>freq</th>\n",
              "    </tr>\n",
              "  </thead>\n",
              "  <tbody>\n",
              "    <tr>\n",
              "      <th>User_ID</th>\n",
              "      <td>550068</td>\n",
              "      <td>5891</td>\n",
              "      <td>1001680</td>\n",
              "      <td>1026</td>\n",
              "    </tr>\n",
              "    <tr>\n",
              "      <th>Product_ID</th>\n",
              "      <td>550068</td>\n",
              "      <td>3631</td>\n",
              "      <td>P00265242</td>\n",
              "      <td>1880</td>\n",
              "    </tr>\n",
              "    <tr>\n",
              "      <th>Gender</th>\n",
              "      <td>550068</td>\n",
              "      <td>2</td>\n",
              "      <td>M</td>\n",
              "      <td>414259</td>\n",
              "    </tr>\n",
              "    <tr>\n",
              "      <th>Age</th>\n",
              "      <td>550068</td>\n",
              "      <td>7</td>\n",
              "      <td>26-35</td>\n",
              "      <td>219587</td>\n",
              "    </tr>\n",
              "    <tr>\n",
              "      <th>Occupation</th>\n",
              "      <td>550068</td>\n",
              "      <td>21</td>\n",
              "      <td>4</td>\n",
              "      <td>72308</td>\n",
              "    </tr>\n",
              "    <tr>\n",
              "      <th>City_Category</th>\n",
              "      <td>550068</td>\n",
              "      <td>3</td>\n",
              "      <td>B</td>\n",
              "      <td>231173</td>\n",
              "    </tr>\n",
              "    <tr>\n",
              "      <th>Stay_In_Current_City_Years</th>\n",
              "      <td>550068</td>\n",
              "      <td>5</td>\n",
              "      <td>1</td>\n",
              "      <td>193821</td>\n",
              "    </tr>\n",
              "    <tr>\n",
              "      <th>Marital_Status</th>\n",
              "      <td>550068</td>\n",
              "      <td>2</td>\n",
              "      <td>Single</td>\n",
              "      <td>324731</td>\n",
              "    </tr>\n",
              "    <tr>\n",
              "      <th>Product_Category</th>\n",
              "      <td>550068</td>\n",
              "      <td>20</td>\n",
              "      <td>5</td>\n",
              "      <td>150933</td>\n",
              "    </tr>\n",
              "  </tbody>\n",
              "</table>\n",
              "</div>\n",
              "    <div class=\"colab-df-buttons\">\n",
              "\n",
              "  <div class=\"colab-df-container\">\n",
              "    <button class=\"colab-df-convert\" onclick=\"convertToInteractive('df-53d7ca69-da76-48e1-8a8a-9f4585d87b2c')\"\n",
              "            title=\"Convert this dataframe to an interactive table.\"\n",
              "            style=\"display:none;\">\n",
              "\n",
              "  <svg xmlns=\"http://www.w3.org/2000/svg\" height=\"24px\" viewBox=\"0 -960 960 960\">\n",
              "    <path d=\"M120-120v-720h720v720H120Zm60-500h600v-160H180v160Zm220 220h160v-160H400v160Zm0 220h160v-160H400v160ZM180-400h160v-160H180v160Zm440 0h160v-160H620v160ZM180-180h160v-160H180v160Zm440 0h160v-160H620v160Z\"/>\n",
              "  </svg>\n",
              "    </button>\n",
              "\n",
              "  <style>\n",
              "    .colab-df-container {\n",
              "      display:flex;\n",
              "      gap: 12px;\n",
              "    }\n",
              "\n",
              "    .colab-df-convert {\n",
              "      background-color: #E8F0FE;\n",
              "      border: none;\n",
              "      border-radius: 50%;\n",
              "      cursor: pointer;\n",
              "      display: none;\n",
              "      fill: #1967D2;\n",
              "      height: 32px;\n",
              "      padding: 0 0 0 0;\n",
              "      width: 32px;\n",
              "    }\n",
              "\n",
              "    .colab-df-convert:hover {\n",
              "      background-color: #E2EBFA;\n",
              "      box-shadow: 0px 1px 2px rgba(60, 64, 67, 0.3), 0px 1px 3px 1px rgba(60, 64, 67, 0.15);\n",
              "      fill: #174EA6;\n",
              "    }\n",
              "\n",
              "    .colab-df-buttons div {\n",
              "      margin-bottom: 4px;\n",
              "    }\n",
              "\n",
              "    [theme=dark] .colab-df-convert {\n",
              "      background-color: #3B4455;\n",
              "      fill: #D2E3FC;\n",
              "    }\n",
              "\n",
              "    [theme=dark] .colab-df-convert:hover {\n",
              "      background-color: #434B5C;\n",
              "      box-shadow: 0px 1px 3px 1px rgba(0, 0, 0, 0.15);\n",
              "      filter: drop-shadow(0px 1px 2px rgba(0, 0, 0, 0.3));\n",
              "      fill: #FFFFFF;\n",
              "    }\n",
              "  </style>\n",
              "\n",
              "    <script>\n",
              "      const buttonEl =\n",
              "        document.querySelector('#df-53d7ca69-da76-48e1-8a8a-9f4585d87b2c button.colab-df-convert');\n",
              "      buttonEl.style.display =\n",
              "        google.colab.kernel.accessAllowed ? 'block' : 'none';\n",
              "\n",
              "      async function convertToInteractive(key) {\n",
              "        const element = document.querySelector('#df-53d7ca69-da76-48e1-8a8a-9f4585d87b2c');\n",
              "        const dataTable =\n",
              "          await google.colab.kernel.invokeFunction('convertToInteractive',\n",
              "                                                    [key], {});\n",
              "        if (!dataTable) return;\n",
              "\n",
              "        const docLinkHtml = 'Like what you see? Visit the ' +\n",
              "          '<a target=\"_blank\" href=https://colab.research.google.com/notebooks/data_table.ipynb>data table notebook</a>'\n",
              "          + ' to learn more about interactive tables.';\n",
              "        element.innerHTML = '';\n",
              "        dataTable['output_type'] = 'display_data';\n",
              "        await google.colab.output.renderOutput(dataTable, element);\n",
              "        const docLink = document.createElement('div');\n",
              "        docLink.innerHTML = docLinkHtml;\n",
              "        element.appendChild(docLink);\n",
              "      }\n",
              "    </script>\n",
              "  </div>\n",
              "\n",
              "\n",
              "<div id=\"df-4a901300-5e00-4a20-9413-b9056e548d5a\">\n",
              "  <button class=\"colab-df-quickchart\" onclick=\"quickchart('df-4a901300-5e00-4a20-9413-b9056e548d5a')\"\n",
              "            title=\"Suggest charts\"\n",
              "            style=\"display:none;\">\n",
              "\n",
              "<svg xmlns=\"http://www.w3.org/2000/svg\" height=\"24px\"viewBox=\"0 0 24 24\"\n",
              "     width=\"24px\">\n",
              "    <g>\n",
              "        <path d=\"M19 3H5c-1.1 0-2 .9-2 2v14c0 1.1.9 2 2 2h14c1.1 0 2-.9 2-2V5c0-1.1-.9-2-2-2zM9 17H7v-7h2v7zm4 0h-2V7h2v10zm4 0h-2v-4h2v4z\"/>\n",
              "    </g>\n",
              "</svg>\n",
              "  </button>\n",
              "\n",
              "<style>\n",
              "  .colab-df-quickchart {\n",
              "      --bg-color: #E8F0FE;\n",
              "      --fill-color: #1967D2;\n",
              "      --hover-bg-color: #E2EBFA;\n",
              "      --hover-fill-color: #174EA6;\n",
              "      --disabled-fill-color: #AAA;\n",
              "      --disabled-bg-color: #DDD;\n",
              "  }\n",
              "\n",
              "  [theme=dark] .colab-df-quickchart {\n",
              "      --bg-color: #3B4455;\n",
              "      --fill-color: #D2E3FC;\n",
              "      --hover-bg-color: #434B5C;\n",
              "      --hover-fill-color: #FFFFFF;\n",
              "      --disabled-bg-color: #3B4455;\n",
              "      --disabled-fill-color: #666;\n",
              "  }\n",
              "\n",
              "  .colab-df-quickchart {\n",
              "    background-color: var(--bg-color);\n",
              "    border: none;\n",
              "    border-radius: 50%;\n",
              "    cursor: pointer;\n",
              "    display: none;\n",
              "    fill: var(--fill-color);\n",
              "    height: 32px;\n",
              "    padding: 0;\n",
              "    width: 32px;\n",
              "  }\n",
              "\n",
              "  .colab-df-quickchart:hover {\n",
              "    background-color: var(--hover-bg-color);\n",
              "    box-shadow: 0 1px 2px rgba(60, 64, 67, 0.3), 0 1px 3px 1px rgba(60, 64, 67, 0.15);\n",
              "    fill: var(--button-hover-fill-color);\n",
              "  }\n",
              "\n",
              "  .colab-df-quickchart-complete:disabled,\n",
              "  .colab-df-quickchart-complete:disabled:hover {\n",
              "    background-color: var(--disabled-bg-color);\n",
              "    fill: var(--disabled-fill-color);\n",
              "    box-shadow: none;\n",
              "  }\n",
              "\n",
              "  .colab-df-spinner {\n",
              "    border: 2px solid var(--fill-color);\n",
              "    border-color: transparent;\n",
              "    border-bottom-color: var(--fill-color);\n",
              "    animation:\n",
              "      spin 1s steps(1) infinite;\n",
              "  }\n",
              "\n",
              "  @keyframes spin {\n",
              "    0% {\n",
              "      border-color: transparent;\n",
              "      border-bottom-color: var(--fill-color);\n",
              "      border-left-color: var(--fill-color);\n",
              "    }\n",
              "    20% {\n",
              "      border-color: transparent;\n",
              "      border-left-color: var(--fill-color);\n",
              "      border-top-color: var(--fill-color);\n",
              "    }\n",
              "    30% {\n",
              "      border-color: transparent;\n",
              "      border-left-color: var(--fill-color);\n",
              "      border-top-color: var(--fill-color);\n",
              "      border-right-color: var(--fill-color);\n",
              "    }\n",
              "    40% {\n",
              "      border-color: transparent;\n",
              "      border-right-color: var(--fill-color);\n",
              "      border-top-color: var(--fill-color);\n",
              "    }\n",
              "    60% {\n",
              "      border-color: transparent;\n",
              "      border-right-color: var(--fill-color);\n",
              "    }\n",
              "    80% {\n",
              "      border-color: transparent;\n",
              "      border-right-color: var(--fill-color);\n",
              "      border-bottom-color: var(--fill-color);\n",
              "    }\n",
              "    90% {\n",
              "      border-color: transparent;\n",
              "      border-bottom-color: var(--fill-color);\n",
              "    }\n",
              "  }\n",
              "</style>\n",
              "\n",
              "  <script>\n",
              "    async function quickchart(key) {\n",
              "      const quickchartButtonEl =\n",
              "        document.querySelector('#' + key + ' button');\n",
              "      quickchartButtonEl.disabled = true;  // To prevent multiple clicks.\n",
              "      quickchartButtonEl.classList.add('colab-df-spinner');\n",
              "      try {\n",
              "        const charts = await google.colab.kernel.invokeFunction(\n",
              "            'suggestCharts', [key], {});\n",
              "      } catch (error) {\n",
              "        console.error('Error during call to suggestCharts:', error);\n",
              "      }\n",
              "      quickchartButtonEl.classList.remove('colab-df-spinner');\n",
              "      quickchartButtonEl.classList.add('colab-df-quickchart-complete');\n",
              "    }\n",
              "    (() => {\n",
              "      let quickchartButtonEl =\n",
              "        document.querySelector('#df-4a901300-5e00-4a20-9413-b9056e548d5a button');\n",
              "      quickchartButtonEl.style.display =\n",
              "        google.colab.kernel.accessAllowed ? 'block' : 'none';\n",
              "    })();\n",
              "  </script>\n",
              "</div>\n",
              "\n",
              "    </div>\n",
              "  </div>\n"
            ],
            "application/vnd.google.colaboratory.intrinsic+json": {
              "type": "dataframe",
              "summary": "{\n  \"name\": \"df\",\n  \"rows\": 9,\n  \"fields\": [\n    {\n      \"column\": \"count\",\n      \"properties\": {\n        \"dtype\": \"date\",\n        \"min\": 550068,\n        \"max\": 550068,\n        \"num_unique_values\": 1,\n        \"samples\": [\n          550068\n        ],\n        \"semantic_type\": \"\",\n        \"description\": \"\"\n      }\n    },\n    {\n      \"column\": \"unique\",\n      \"properties\": {\n        \"dtype\": \"date\",\n        \"min\": 2,\n        \"max\": 5891,\n        \"num_unique_values\": 8,\n        \"samples\": [\n          3631\n        ],\n        \"semantic_type\": \"\",\n        \"description\": \"\"\n      }\n    },\n    {\n      \"column\": \"top\",\n      \"properties\": {\n        \"dtype\": \"string\",\n        \"num_unique_values\": 9,\n        \"samples\": [\n          \"Single\"\n        ],\n        \"semantic_type\": \"\",\n        \"description\": \"\"\n      }\n    },\n    {\n      \"column\": \"freq\",\n      \"properties\": {\n        \"dtype\": \"date\",\n        \"min\": 1026,\n        \"max\": \"414259\",\n        \"num_unique_values\": 9,\n        \"samples\": [\n          \"324731\"\n        ],\n        \"semantic_type\": \"\",\n        \"description\": \"\"\n      }\n    }\n  ]\n}"
            }
          },
          "metadata": {},
          "execution_count": 527
        }
      ]
    },
    {
      "cell_type": "code",
      "source": [
        "df.describe().T"
      ],
      "metadata": {
        "colab": {
          "base_uri": "https://localhost:8080/",
          "height": 81
        },
        "id": "n8rFHrTHSEQr",
        "outputId": "90ddd624-e6f1-4ee2-f9e9-7cc8a1e3738d"
      },
      "execution_count": null,
      "outputs": [
        {
          "output_type": "execute_result",
          "data": {
            "text/plain": [
              "             count         mean          std   min     25%     50%      75%  \\\n",
              "Purchase  550068.0  9263.968713  5023.065394  12.0  5823.0  8047.0  12054.0   \n",
              "\n",
              "              max  \n",
              "Purchase  23961.0  "
            ],
            "text/html": [
              "\n",
              "  <div id=\"df-cfb0b6c2-453e-4537-a130-25dfb172bcdc\" class=\"colab-df-container\">\n",
              "    <div>\n",
              "<style scoped>\n",
              "    .dataframe tbody tr th:only-of-type {\n",
              "        vertical-align: middle;\n",
              "    }\n",
              "\n",
              "    .dataframe tbody tr th {\n",
              "        vertical-align: top;\n",
              "    }\n",
              "\n",
              "    .dataframe thead th {\n",
              "        text-align: right;\n",
              "    }\n",
              "</style>\n",
              "<table border=\"1\" class=\"dataframe\">\n",
              "  <thead>\n",
              "    <tr style=\"text-align: right;\">\n",
              "      <th></th>\n",
              "      <th>count</th>\n",
              "      <th>mean</th>\n",
              "      <th>std</th>\n",
              "      <th>min</th>\n",
              "      <th>25%</th>\n",
              "      <th>50%</th>\n",
              "      <th>75%</th>\n",
              "      <th>max</th>\n",
              "    </tr>\n",
              "  </thead>\n",
              "  <tbody>\n",
              "    <tr>\n",
              "      <th>Purchase</th>\n",
              "      <td>550068.0</td>\n",
              "      <td>9263.968713</td>\n",
              "      <td>5023.065394</td>\n",
              "      <td>12.0</td>\n",
              "      <td>5823.0</td>\n",
              "      <td>8047.0</td>\n",
              "      <td>12054.0</td>\n",
              "      <td>23961.0</td>\n",
              "    </tr>\n",
              "  </tbody>\n",
              "</table>\n",
              "</div>\n",
              "    <div class=\"colab-df-buttons\">\n",
              "\n",
              "  <div class=\"colab-df-container\">\n",
              "    <button class=\"colab-df-convert\" onclick=\"convertToInteractive('df-cfb0b6c2-453e-4537-a130-25dfb172bcdc')\"\n",
              "            title=\"Convert this dataframe to an interactive table.\"\n",
              "            style=\"display:none;\">\n",
              "\n",
              "  <svg xmlns=\"http://www.w3.org/2000/svg\" height=\"24px\" viewBox=\"0 -960 960 960\">\n",
              "    <path d=\"M120-120v-720h720v720H120Zm60-500h600v-160H180v160Zm220 220h160v-160H400v160Zm0 220h160v-160H400v160ZM180-400h160v-160H180v160Zm440 0h160v-160H620v160ZM180-180h160v-160H180v160Zm440 0h160v-160H620v160Z\"/>\n",
              "  </svg>\n",
              "    </button>\n",
              "\n",
              "  <style>\n",
              "    .colab-df-container {\n",
              "      display:flex;\n",
              "      gap: 12px;\n",
              "    }\n",
              "\n",
              "    .colab-df-convert {\n",
              "      background-color: #E8F0FE;\n",
              "      border: none;\n",
              "      border-radius: 50%;\n",
              "      cursor: pointer;\n",
              "      display: none;\n",
              "      fill: #1967D2;\n",
              "      height: 32px;\n",
              "      padding: 0 0 0 0;\n",
              "      width: 32px;\n",
              "    }\n",
              "\n",
              "    .colab-df-convert:hover {\n",
              "      background-color: #E2EBFA;\n",
              "      box-shadow: 0px 1px 2px rgba(60, 64, 67, 0.3), 0px 1px 3px 1px rgba(60, 64, 67, 0.15);\n",
              "      fill: #174EA6;\n",
              "    }\n",
              "\n",
              "    .colab-df-buttons div {\n",
              "      margin-bottom: 4px;\n",
              "    }\n",
              "\n",
              "    [theme=dark] .colab-df-convert {\n",
              "      background-color: #3B4455;\n",
              "      fill: #D2E3FC;\n",
              "    }\n",
              "\n",
              "    [theme=dark] .colab-df-convert:hover {\n",
              "      background-color: #434B5C;\n",
              "      box-shadow: 0px 1px 3px 1px rgba(0, 0, 0, 0.15);\n",
              "      filter: drop-shadow(0px 1px 2px rgba(0, 0, 0, 0.3));\n",
              "      fill: #FFFFFF;\n",
              "    }\n",
              "  </style>\n",
              "\n",
              "    <script>\n",
              "      const buttonEl =\n",
              "        document.querySelector('#df-cfb0b6c2-453e-4537-a130-25dfb172bcdc button.colab-df-convert');\n",
              "      buttonEl.style.display =\n",
              "        google.colab.kernel.accessAllowed ? 'block' : 'none';\n",
              "\n",
              "      async function convertToInteractive(key) {\n",
              "        const element = document.querySelector('#df-cfb0b6c2-453e-4537-a130-25dfb172bcdc');\n",
              "        const dataTable =\n",
              "          await google.colab.kernel.invokeFunction('convertToInteractive',\n",
              "                                                    [key], {});\n",
              "        if (!dataTable) return;\n",
              "\n",
              "        const docLinkHtml = 'Like what you see? Visit the ' +\n",
              "          '<a target=\"_blank\" href=https://colab.research.google.com/notebooks/data_table.ipynb>data table notebook</a>'\n",
              "          + ' to learn more about interactive tables.';\n",
              "        element.innerHTML = '';\n",
              "        dataTable['output_type'] = 'display_data';\n",
              "        await google.colab.output.renderOutput(dataTable, element);\n",
              "        const docLink = document.createElement('div');\n",
              "        docLink.innerHTML = docLinkHtml;\n",
              "        element.appendChild(docLink);\n",
              "      }\n",
              "    </script>\n",
              "  </div>\n",
              "\n",
              "\n",
              "    </div>\n",
              "  </div>\n"
            ],
            "application/vnd.google.colaboratory.intrinsic+json": {
              "type": "dataframe",
              "summary": "{\n  \"name\": \"df\",\n  \"rows\": 1,\n  \"fields\": [\n    {\n      \"column\": \"count\",\n      \"properties\": {\n        \"dtype\": \"number\",\n        \"std\": null,\n        \"min\": 550068.0,\n        \"max\": 550068.0,\n        \"num_unique_values\": 1,\n        \"samples\": [\n          550068.0\n        ],\n        \"semantic_type\": \"\",\n        \"description\": \"\"\n      }\n    },\n    {\n      \"column\": \"mean\",\n      \"properties\": {\n        \"dtype\": \"number\",\n        \"std\": null,\n        \"min\": 9263.968712959126,\n        \"max\": 9263.968712959126,\n        \"num_unique_values\": 1,\n        \"samples\": [\n          9263.968712959126\n        ],\n        \"semantic_type\": \"\",\n        \"description\": \"\"\n      }\n    },\n    {\n      \"column\": \"std\",\n      \"properties\": {\n        \"dtype\": \"number\",\n        \"std\": null,\n        \"min\": 5023.065393820582,\n        \"max\": 5023.065393820582,\n        \"num_unique_values\": 1,\n        \"samples\": [\n          5023.065393820582\n        ],\n        \"semantic_type\": \"\",\n        \"description\": \"\"\n      }\n    },\n    {\n      \"column\": \"min\",\n      \"properties\": {\n        \"dtype\": \"number\",\n        \"std\": null,\n        \"min\": 12.0,\n        \"max\": 12.0,\n        \"num_unique_values\": 1,\n        \"samples\": [\n          12.0\n        ],\n        \"semantic_type\": \"\",\n        \"description\": \"\"\n      }\n    },\n    {\n      \"column\": \"25%\",\n      \"properties\": {\n        \"dtype\": \"number\",\n        \"std\": null,\n        \"min\": 5823.0,\n        \"max\": 5823.0,\n        \"num_unique_values\": 1,\n        \"samples\": [\n          5823.0\n        ],\n        \"semantic_type\": \"\",\n        \"description\": \"\"\n      }\n    },\n    {\n      \"column\": \"50%\",\n      \"properties\": {\n        \"dtype\": \"number\",\n        \"std\": null,\n        \"min\": 8047.0,\n        \"max\": 8047.0,\n        \"num_unique_values\": 1,\n        \"samples\": [\n          8047.0\n        ],\n        \"semantic_type\": \"\",\n        \"description\": \"\"\n      }\n    },\n    {\n      \"column\": \"75%\",\n      \"properties\": {\n        \"dtype\": \"number\",\n        \"std\": null,\n        \"min\": 12054.0,\n        \"max\": 12054.0,\n        \"num_unique_values\": 1,\n        \"samples\": [\n          12054.0\n        ],\n        \"semantic_type\": \"\",\n        \"description\": \"\"\n      }\n    },\n    {\n      \"column\": \"max\",\n      \"properties\": {\n        \"dtype\": \"number\",\n        \"std\": null,\n        \"min\": 23961.0,\n        \"max\": 23961.0,\n        \"num_unique_values\": 1,\n        \"samples\": [\n          23961.0\n        ],\n        \"semantic_type\": \"\",\n        \"description\": \"\"\n      }\n    }\n  ]\n}"
            }
          },
          "metadata": {},
          "execution_count": 528
        }
      ]
    },
    {
      "cell_type": "markdown",
      "source": [
        "# 3.Univariate Analysis"
      ],
      "metadata": {
        "id": "EtPhCkqnUlVl"
      }
    },
    {
      "cell_type": "markdown",
      "source": [
        "## 3.1 Numerical Variables"
      ],
      "metadata": {
        "id": "PwW2ThQCciyU"
      }
    },
    {
      "cell_type": "markdown",
      "source": [
        "### 3.1.1 Detecting Outliers"
      ],
      "metadata": {
        "id": "qijikkeqcqi4"
      }
    },
    {
      "cell_type": "code",
      "source": [
        "plt.figure(figsize=(10,5))\n",
        "sns.boxplot(data = df, x = 'Purchase')\n",
        "plt.title('Boxplot for Purchase')\n",
        "plt.show()"
      ],
      "metadata": {
        "colab": {
          "base_uri": "https://localhost:8080/",
          "height": 487
        },
        "id": "Mca3Ult4UkrF",
        "outputId": "799a1ec9-8ec2-4f60-ca77-5504f0ceac23"
      },
      "execution_count": null,
      "outputs": [
        {
          "output_type": "display_data",
          "data": {
            "text/plain": [
              "<Figure size 1000x500 with 1 Axes>"
            ],
            "image/png": "[encoded data removed]"
          },
          "metadata": {}
        }
      ]
    },
    {
      "cell_type": "code",
      "source": [],
      "metadata": {
        "id": "edelSmLIhQWo"
      },
      "execution_count": null,
      "outputs": []
    },
    {
      "cell_type": "markdown",
      "source": [
        "*Calculating the number of Outliers*"
      ],
      "metadata": {
        "id": "kQGIhkEzhQ1H"
      }
    },
    {
      "cell_type": "code",
      "source": [
        "# Calculating the Quartiles\n",
        "Q1 = df['Purchase'].quantile(0.25)\n",
        "Q3 = df['Purchase'].quantile(0.75)\n",
        "\n",
        "# Calculating the IQR\n",
        "IQR = Q3 - Q1\n",
        "\n",
        "# Setting lower and upper limits to seperrate the Outliers\n",
        "lower_limit = Q1 - 1.5 * IQR\n",
        "upper_limit = Q3 + 1.5 * IQR\n",
        "\n",
        "# Calculating the total outliers\n",
        "lower_outliers = df[df['Purchase'] < lower_limit]\n",
        "upper_outliers = df[df['Purchase'] > upper_limit]\n",
        "Total_Outliers = len(lower_outliers) + len(upper_outliers)\n",
        "print(f'Total number of outliers in our dataset is {Total_Outliers}')"
      ],
      "metadata": {
        "colab": {
          "base_uri": "https://localhost:8080/"
        },
        "id": "FGMRByXkUf5Y",
        "outputId": "4823fe85-1f58-44df-be5d-8f00c9d22c07"
      },
      "execution_count": null,
      "outputs": [
        {
          "output_type": "stream",
          "name": "stdout",
          "text": [
            "Total number of outliers in our dataset is 2677\n"
          ]
        }
      ]
    },
    {
      "cell_type": "markdown",
      "source": [
        "*Removing the Outliers*"
      ],
      "metadata": {
        "id": "QcZeXUpwlXe8"
      }
    },
    {
      "cell_type": "code",
      "source": [
        "remove_ouliers = df[(df['Purchase'] > lower_limit) & (df['Purchase'] < upper_limit)]"
      ],
      "metadata": {
        "id": "NN9d-8DQf1bj"
      },
      "execution_count": null,
      "outputs": []
    },
    {
      "cell_type": "code",
      "source": [
        "plt.figure(figsize=(10,5))\n",
        "sns.boxplot(data = remove_ouliers, x = 'Purchase')\n",
        "plt.title('Boxplot of Purchase with the outliers rermoved')\n",
        "plt.show()"
      ],
      "metadata": {
        "colab": {
          "base_uri": "https://localhost:8080/",
          "height": 487
        },
        "id": "GSxbNSowl3cP",
        "outputId": "3a8879fc-7c47-4753-d2fa-dbb4df975a9e"
      },
      "execution_count": null,
      "outputs": [
        {
          "output_type": "display_data",
          "data": {
            "text/plain": [
              "<Figure size 1000x500 with 1 Axes>"
            ],
            "image/png": "[encoded data removed]"
          },
          "metadata": {}
        }
      ]
    },
    {
      "cell_type": "markdown",
      "source": [
        "## 3.2Categorical Variables"
      ],
      "metadata": {
        "id": "jvpZLrQ9nT4A"
      }
    },
    {
      "cell_type": "code",
      "source": [
        "fig, axs= plt.subplots(2,2 , figsize=(20,13))\n",
        "sns.countplot(data=df,x='Age',ax=axs[0,0])\n",
        "sns.countplot(data=df,x='Occupation',ax=axs[0,1])\n",
        "sns.countplot(data=df,x='Stay_In_Current_City_Years',ax=axs[1,0])\n",
        "sns.countplot(data=df,x='Product_Category',ax=axs[1,1], hue='Gender')\n",
        "\n",
        "plt.show()"
      ],
      "metadata": {
        "colab": {
          "base_uri": "https://localhost:8080/",
          "height": 723
        },
        "id": "umqM4TtcmBK_",
        "outputId": "d4c3a6b9-da2d-4cac-dbd6-478d61827435"
      },
      "execution_count": null,
      "outputs": [
        {
          "output_type": "display_data",
          "data": {
            "text/plain": [
              "<Figure size 2000x1300 with 4 Axes>"
            ],
            "image/png": "[encoded data removed]"
          },
          "metadata": {}
        }
      ]
    },
    {
      "cell_type": "markdown",
      "source": [
        "*Insights*\n",
        "- Age between 26-35 were quite active and spent a significant amount during black friday sale.\n",
        "- People from the occupation 0, 4 and 7 must have quite a spending power as they were the top buyers of that category.\n",
        "- In the product category people prefered 1,5 and 8 more than any other product and the gender don't bear much impact since both gender have almost the same preference during the sale.\n",
        "- The people who are staying in the city for a 1 year took good advantage of the black friday sale."
      ],
      "metadata": {
        "id": "wIKmqK7oeR-d"
      }
    },
    {
      "cell_type": "markdown",
      "source": [],
      "metadata": {
        "id": "G6VL8SHNv7jn"
      }
    },
    {
      "cell_type": "code",
      "source": [
        "# Finding Proportion of City, Gender and Marrital_status in the given data\n",
        "City_prop = pd.DataFrame(df.groupby('City_Category')['User_ID'].count())\n",
        "C_values = City_prop['User_ID'].tolist()\n",
        "C_labels = City_prop.index\n",
        "\n",
        "Gender_prop = pd.DataFrame(df.groupby('Gender')['User_ID'].count())\n",
        "G_values = Gender_prop['User_ID'].tolist()\n",
        "G_labels = Gender_prop.index\n",
        "\n",
        "Marital_prop = pd.DataFrame(df.groupby('Marital_Status')['User_ID'].count())\n",
        "M_values = Marital_prop['User_ID'].tolist()\n",
        "M_labels = Marital_prop.index\n",
        "\n",
        "plt.subplot(1,3,1)\n",
        "plt.pie(G_values, labels = G_labels, autopct = '%0.2f%%')\n",
        "\n",
        "plt.subplot(1,3,2)\n",
        "plt.pie(M_values, labels = M_labels, autopct = '%0.2f%%')\n",
        "\n",
        "plt.subplot(1,3,3)\n",
        "plt.pie(C_values, labels = C_labels, autopct = '%0.2f%%')\n",
        "\n",
        "plt.show()"
      ],
      "metadata": {
        "colab": {
          "base_uri": "https://localhost:8080/",
          "height": 182
        },
        "collapsed": true,
        "id": "d03dD-ZNnGQN",
        "outputId": "cda51187-6f60-452b-e859-847586b971ea"
      },
      "execution_count": null,
      "outputs": [
        {
          "output_type": "display_data",
          "data": {
            "text/plain": [
              "<Figure size 640x480 with 3 Axes>"
            ],
            "image/png": "[encoded data removed]"
          },
          "metadata": {}
        }
      ]
    },
    {
      "cell_type": "markdown",
      "source": [
        "*Insights*\n",
        "- Most of the buyers are Men and single.\n",
        "- People from the Area B are quite active during this Black Friday."
      ],
      "metadata": {
        "id": "JS6boAfvd4Gl"
      }
    },
    {
      "cell_type": "markdown",
      "source": [
        "# 4.Multivariate Analysis"
      ],
      "metadata": {
        "id": "hSEHV9X82u35"
      }
    },
    {
      "cell_type": "markdown",
      "source": [
        "## 4.1 Purchase vs different aspects of customers"
      ],
      "metadata": {
        "id": "cddO-u56D-7z"
      }
    },
    {
      "cell_type": "code",
      "source": [
        "fig, axis = plt.subplots(1,3, figsize=(12,4))\n",
        "sns.boxplot(df, x=\"City_Category\", y=\"Purchase\", ax=axis[0], hue= 'Gender', palette='Set1')\n",
        "sns.boxplot(df, x=\"Marital_Status\", y=\"Purchase\", ax=axis[1], hue= 'Gender', palette='Set1')\n",
        "sns.boxplot(df, x=\"Age\", y=\"Purchase\", ax=axis[2], hue= 'Gender', palette='Set1')\n",
        "plt.show()\n",
        "\n",
        "# sns.boxplot(df, x=\"City_Category\", y=\"Purchase\", hue= 'Gender', palette='Set1')\n",
        "# plt.show()"
      ],
      "metadata": {
        "colab": {
          "base_uri": "https://localhost:8080/",
          "height": 392
        },
        "id": "gs_5CtQxEGYT",
        "outputId": "c8d25089-234c-4fb6-e5c1-8e49046c234b"
      },
      "execution_count": null,
      "outputs": [
        {
          "output_type": "display_data",
          "data": {
            "text/plain": [
              "<Figure size 1200x400 with 3 Axes>"
            ],
            "image/png": "[encoded data removed]"
          },
          "metadata": {}
        }
      ]
    },
    {
      "cell_type": "markdown",
      "source": [
        "*Insights*\n",
        "- From the above chart we can see that the spending habit of both Genders regardless of their age, Marital status or the city they are from, all have relatively a same spending pattern and maintains the spending average aroung 8000$."
      ],
      "metadata": {
        "id": "H8Ux2Eh-dJFq"
      }
    },
    {
      "cell_type": "markdown",
      "source": [
        "## 4.2 Different Age groups and their buying habits"
      ],
      "metadata": {
        "id": "E7UwU8ezG2VX"
      }
    },
    {
      "cell_type": "code",
      "source": [
        "sns.histplot(df, x=\"Product_Category\", hue=\"Age\", multiple=\"stack\", palette='Set1')\n",
        "plt.show()"
      ],
      "metadata": {
        "colab": {
          "base_uri": "https://localhost:8080/",
          "height": 450
        },
        "id": "0XyLGJUbHDMU",
        "outputId": "89513654-da7c-4c16-c329-cc6dd4034ed2"
      },
      "execution_count": null,
      "outputs": [
        {
          "output_type": "display_data",
          "data": {
            "text/plain": [
              "<Figure size 640x480 with 1 Axes>"
            ],
            "image/png": "[encoded data removed]"
          },
          "metadata": {}
        }
      ]
    },
    {
      "cell_type": "markdown",
      "source": [
        "## 4.3 Gender and thier Product preference"
      ],
      "metadata": {
        "id": "zTUVjkhFHpXe"
      }
    },
    {
      "cell_type": "code",
      "source": [
        "sns.histplot(df, x=\"Product_Category\", hue=\"Gender\", multiple=\"stack\", palette='Set1')\n",
        "plt.show()"
      ],
      "metadata": {
        "colab": {
          "base_uri": "https://localhost:8080/",
          "height": 450
        },
        "id": "JxMpFy9pHvOU",
        "outputId": "f56f50d7-558e-427f-dd00-891039c4661d"
      },
      "execution_count": null,
      "outputs": [
        {
          "output_type": "display_data",
          "data": {
            "text/plain": [
              "<Figure size 640x480 with 1 Axes>"
            ],
            "image/png": "[encoded data removed]"
          },
          "metadata": {}
        }
      ]
    },
    {
      "cell_type": "markdown",
      "source": [
        "# 5.Confidence Interval"
      ],
      "metadata": {
        "id": "KoWrpHwGSCGH"
      }
    },
    {
      "cell_type": "code",
      "source": [
        "def df_ci(column, confidence_level):\n",
        "  male_data = df[df[column] == 'M']['Purchase']\n",
        "  male_mean = male_data.mean()\n",
        "  male_std = male_data.std()\n",
        "  male_se = male_std/np.sqrt(len(male_data))\n",
        "\n",
        "  male_z = norm.ppf((1 + confidence_level)/2)\n",
        "  male_ci = [male_mean - (male_z * male_se), male_mean + (male_z * male_se)]\n",
        "  male_range = male_ci[1] - male_ci[0]\n",
        "\n",
        "  female_data = df[df[column] == 'F']['Purchase']\n",
        "  female_mean = female_data.mean()\n",
        "  female_std = female_data.std()\n",
        "  female_se = female_std/np.sqrt(len(female_data))\n",
        "\n",
        "  female_z = norm.ppf((1 + confidence_level)/2)\n",
        "  female_ci = [female_mean - (female_z * female_se), female_mean + (female_z * female_se)]\n",
        "  female_range = female_ci[1] - female_ci[0]\n",
        "\n",
        "  print(f'Records of {column} column')\n",
        "  print(f'Male {confidence_level*100}% condidence interval:{male_ci}')\n",
        "  print(f'Male {confidence_level*100}% range:{male_range}')\n",
        "  print(f'Female {confidence_level*100}% condidence interval:{female_ci}')\n",
        "  print(f'Female {confidence_level*100}% range:{female_range}')\n",
        "  print('\\n')"
      ],
      "metadata": {
        "id": "M4BLoR-122mu"
      },
      "execution_count": null,
      "outputs": []
    },
    {
      "cell_type": "code",
      "source": [
        "def sample_ci(column, confidence_level, sample_size):\n",
        "  male_data = df[df[column] == 'M']['Purchase']\n",
        "  sample_male = male_data.sample(sample_size, random_state = 42)\n",
        "  male_mean = sample_male.mean()\n",
        "  male_std = sample_male.std()\n",
        "  male_se = male_std/np.sqrt(len(sample_male))\n",
        "\n",
        "  male_z = norm.ppf((1 + confidence_level)/2)\n",
        "  male_ci = [male_mean - (male_z * male_se), male_mean + (male_z * male_se)]\n",
        "  male_range = male_ci[1] - male_ci[0]\n",
        "\n",
        "  female_data = df[df[column] == 'F']['Purchase']\n",
        "  sample_female = female_data.sample(sample_size, random_state = 42)\n",
        "  female_mean = sample_female.mean()\n",
        "  female_std = sample_female.std()\n",
        "  female_se = female_std/np.sqrt(len(sample_female))\n",
        "\n",
        "  female_z = norm.ppf((1 + confidence_level)/2)\n",
        "  female_ci = [female_mean - (female_z * female_se), female_mean + (female_z * female_se)]\n",
        "  female_range = female_ci[1] - female_ci[0]\n",
        "\n",
        "  print(f'{sample_size} samples of {column} column')\n",
        "  print(f'Male {confidence_level*100}% confidence interval:{male_ci}')\n",
        "  print(f'Male {confidence_level*100}% range:{male_range}')\n",
        "  print(f'Female {confidence_level*100}% confidence interval:{female_ci}')\n",
        "  print(f'Female {confidence_level*100}% range:{female_range}')\n",
        "  print('\\n')"
      ],
      "metadata": {
        "id": "jSpfs-t8Awe_"
      },
      "execution_count": null,
      "outputs": []
    },
    {
      "cell_type": "markdown",
      "source": [
        "## 5.1 Finding the Confidence Interval of the Age column for the whole dataset."
      ],
      "metadata": {
        "id": "DTvZ5wjISGdd"
      }
    },
    {
      "cell_type": "markdown",
      "source": [
        "### 5.1.1 Analysing Gender across different and Confidence Interval to have a conclusive understanding the Spending pattern"
      ],
      "metadata": {
        "id": "URXQfxoLSkbx"
      }
    },
    {
      "cell_type": "markdown",
      "source": [
        "#### *90% Confidence Interval*"
      ],
      "metadata": {
        "id": "_Smc2J5bXYgv"
      }
    },
    {
      "cell_type": "code",
      "source": [
        "df_ci('Gender', 0.90)\n"
      ],
      "metadata": {
        "colab": {
          "base_uri": "https://localhost:8080/"
        },
        "id": "rYTWljAXN-CG",
        "outputId": "d6f4d4fd-1bd0-4ba3-9e75-520e1baff3a9"
      },
      "execution_count": null,
      "outputs": [
        {
          "output_type": "stream",
          "name": "stdout",
          "text": [
            "Records of Gender column\n",
            "Male 90.0% condidence interval:[9424.512497305488, 9450.539583639042]\n",
            "Male 90.0% range:26.027086333553598\n",
            "Female 90.0% condidence interval:[8713.287834648021, 8755.84369566293]\n",
            "Female 90.0% range:42.55586101490917\n",
            "\n",
            "\n"
          ]
        }
      ]
    },
    {
      "cell_type": "markdown",
      "source": [
        "#### *95% Confidence Interval*"
      ],
      "metadata": {
        "id": "Yjm7KU-DXjpD"
      }
    },
    {
      "cell_type": "code",
      "source": [
        "df_ci('Gender', 0.95)\n"
      ],
      "metadata": {
        "colab": {
          "base_uri": "https://localhost:8080/"
        },
        "id": "36YJIQQDXrdq",
        "outputId": "43a297ad-edaa-4a83-d6fd-608ce01b73dc"
      },
      "execution_count": null,
      "outputs": [
        {
          "output_type": "stream",
          "name": "stdout",
          "text": [
            "Records of Gender column\n",
            "Male 95.0% condidence interval:[9422.01944736257, 9453.032633581959]\n",
            "Male 95.0% range:31.013186219388444\n",
            "Female 95.0% condidence interval:[8709.21154714068, 8759.919983170272]\n",
            "Female 95.0% range:50.70843602959212\n",
            "\n",
            "\n"
          ]
        }
      ]
    },
    {
      "cell_type": "markdown",
      "source": [
        "#### *99% Confidence Interval*"
      ],
      "metadata": {
        "id": "Hy4vjAfiXjXA"
      }
    },
    {
      "cell_type": "code",
      "source": [
        "df_ci('Gender', 0.99)\n"
      ],
      "metadata": {
        "colab": {
          "base_uri": "https://localhost:8080/"
        },
        "id": "kbkFACZAVUaP",
        "outputId": "0d25c637-e9d5-4282-b023-5ae130399dae"
      },
      "execution_count": null,
      "outputs": [
        {
          "output_type": "stream",
          "name": "stdout",
          "text": [
            "Records of Gender column\n",
            "Male 99.0% condidence interval:[9417.146922669479, 9457.90515827505]\n",
            "Male 99.0% range:40.75823560557183\n",
            "Female 99.0% condidence interval:[8701.244674438389, 8767.886855872563]\n",
            "Female 99.0% range:66.64218143417384\n",
            "\n",
            "\n"
          ]
        }
      ]
    },
    {
      "cell_type": "markdown",
      "source": [
        "## 5.2 Finding the Confidence Interval of the Gender column across using different sample sizes.\n"
      ],
      "metadata": {
        "id": "HnRE2PtRYJvF"
      }
    },
    {
      "cell_type": "markdown",
      "source": [
        "### 5.2.1 Analysing Gender column across different sample size and Confidence Interval to have a conclusive understanding the Spending pattern.\n"
      ],
      "metadata": {
        "id": "ZG1eHq61YcQ7"
      }
    },
    {
      "cell_type": "markdown",
      "source": [
        "#### **90% Confidence Interval**"
      ],
      "metadata": {
        "id": "wZlrrCJRZPK8"
      }
    },
    {
      "cell_type": "markdown",
      "source": [
        "*Sample Size: 300*"
      ],
      "metadata": {
        "id": "JLhriUELZhM7"
      }
    },
    {
      "cell_type": "code",
      "source": [
        "sample_ci('Gender', 0.90, 300)"
      ],
      "metadata": {
        "colab": {
          "base_uri": "https://localhost:8080/"
        },
        "id": "OIL5EYxJXweS",
        "outputId": "ba5e8d74-4b4f-4d80-e40e-40ded6ca0e53"
      },
      "execution_count": null,
      "outputs": [
        {
          "output_type": "stream",
          "name": "stdout",
          "text": [
            "300 samples of Gender column\n",
            "Male 90.0% confidence interval:[9380.83746339652, 10394.609203270147]\n",
            "Male 90.0% range:1013.7717398736277\n",
            "Female 90.0% confidence interval:[8398.670945742073, 9336.229054257929]\n",
            "Female 90.0% range:937.5581085158556\n",
            "\n",
            "\n"
          ]
        }
      ]
    },
    {
      "cell_type": "markdown",
      "source": [
        "*Sample Size: 3000*"
      ],
      "metadata": {
        "id": "ff19wsKpbwI4"
      }
    },
    {
      "cell_type": "code",
      "source": [
        "sample_ci('Gender', 0.90, 3000)"
      ],
      "metadata": {
        "colab": {
          "base_uri": "https://localhost:8080/"
        },
        "id": "mClbaOW_ZxCD",
        "outputId": "2d3b4b52-59d0-40b8-ae22-8b17759aea5e"
      },
      "execution_count": null,
      "outputs": [
        {
          "output_type": "stream",
          "name": "stdout",
          "text": [
            "3000 samples of Gender column\n",
            "Male 90.0% confidence interval:[9489.930814851989, 9801.341185148012]\n",
            "Male 90.0% range:311.41037029602376\n",
            "Female 90.0% confidence interval:[8658.782721289897, 8954.244612043434]\n",
            "Female 90.0% range:295.46189075353686\n",
            "\n",
            "\n"
          ]
        }
      ]
    },
    {
      "cell_type": "markdown",
      "source": [
        "*Sample Size: 30000*"
      ],
      "metadata": {
        "id": "x4NHvpmlby5f"
      }
    },
    {
      "cell_type": "code",
      "source": [
        "sample_ci('Gender', 0.90, 30000)"
      ],
      "metadata": {
        "colab": {
          "base_uri": "https://localhost:8080/"
        },
        "id": "17HJnoPmZzvw",
        "outputId": "7950149b-f041-47a5-de3f-b3e1d461c4b8"
      },
      "execution_count": null,
      "outputs": [
        {
          "output_type": "stream",
          "name": "stdout",
          "text": [
            "30000 samples of Gender column\n",
            "Male 90.0% confidence interval:[9438.269538879862, 9535.561994453472]\n",
            "Male 90.0% range:97.29245557360991\n",
            "Female 90.0% confidence interval:[8610.964490517577, 8700.998442815755]\n",
            "Female 90.0% range:90.03395229817761\n",
            "\n",
            "\n"
          ]
        }
      ]
    },
    {
      "cell_type": "markdown",
      "source": [
        "#### **95% Confidence Interval**"
      ],
      "metadata": {
        "id": "wudU8Rxkb2oP"
      }
    },
    {
      "cell_type": "markdown",
      "source": [
        "*Sample Size: 300*"
      ],
      "metadata": {
        "id": "bawa1Ot9b2od"
      }
    },
    {
      "cell_type": "code",
      "source": [
        "sample_ci('Gender', 0.95, 300)"
      ],
      "metadata": {
        "colab": {
          "base_uri": "https://localhost:8080/"
        },
        "outputId": "dce604ed-57b8-4861-a350-167cd88f580a",
        "id": "BIYmu7ARb2od"
      },
      "execution_count": null,
      "outputs": [
        {
          "output_type": "stream",
          "name": "stdout",
          "text": [
            "300 samples of Gender column\n",
            "Male 95.0% confidence interval:[9283.731565877591, 10491.715100789075]\n",
            "Male 95.0% range:1207.9835349114837\n",
            "Female 95.0% confidence interval:[8308.865304074718, 9426.034695925284]\n",
            "Female 95.0% range:1117.1693918505662\n",
            "\n",
            "\n"
          ]
        }
      ]
    },
    {
      "cell_type": "markdown",
      "source": [
        "*Sample Size: 3000*"
      ],
      "metadata": {
        "id": "Cnmr5TISb2oe"
      }
    },
    {
      "cell_type": "code",
      "source": [
        "sample_ci('Gender', 0.95, 3000)"
      ],
      "metadata": {
        "colab": {
          "base_uri": "https://localhost:8080/"
        },
        "outputId": "72871e84-435b-49f9-8e3b-b5285199b026",
        "id": "jP05_Mu5b2oe"
      },
      "execution_count": null,
      "outputs": [
        {
          "output_type": "stream",
          "name": "stdout",
          "text": [
            "3000 samples of Gender column\n",
            "Male 95.0% confidence interval:[9460.10182838994, 9831.170171610062]\n",
            "Male 95.0% range:371.0683432201222\n",
            "Female 95.0% confidence interval:[8630.48138780842, 8982.545945524911]\n",
            "Female 95.0% range:352.0645577164905\n",
            "\n",
            "\n"
          ]
        }
      ]
    },
    {
      "cell_type": "markdown",
      "source": [
        "*Sample Size: 30000*"
      ],
      "metadata": {
        "id": "pgO_pqAJb2oe"
      }
    },
    {
      "cell_type": "code",
      "source": [
        "sample_ci('Gender', 0.95, 30000)"
      ],
      "metadata": {
        "colab": {
          "base_uri": "https://localhost:8080/"
        },
        "outputId": "1b72cbd9-cd37-4ae7-d044-7529f8cfcd85",
        "id": "HYz70mvzb2of"
      },
      "execution_count": null,
      "outputs": [
        {
          "output_type": "stream",
          "name": "stdout",
          "text": [
            "30000 samples of Gender column\n",
            "Male 95.0% confidence interval:[9428.950211018666, 9544.881322314668]\n",
            "Male 95.0% range:115.9311112960022\n",
            "Female 95.0% confidence interval:[8602.340431075772, 8709.62250225756]\n",
            "Female 95.0% range:107.28207118178761\n",
            "\n",
            "\n"
          ]
        }
      ]
    },
    {
      "cell_type": "markdown",
      "source": [
        "#### **99% Confidence Interval**"
      ],
      "metadata": {
        "id": "WZI4SeB9b_wA"
      }
    },
    {
      "cell_type": "markdown",
      "source": [
        "*Sample Size: 300*"
      ],
      "metadata": {
        "id": "mndMRAGwb_wA"
      }
    },
    {
      "cell_type": "code",
      "source": [
        "sample_ci('Gender', 0.99, 300)"
      ],
      "metadata": {
        "colab": {
          "base_uri": "https://localhost:8080/"
        },
        "outputId": "019770ee-4300-4c9b-aea8-e233883517f3",
        "id": "pWy9geCib_wB"
      },
      "execution_count": null,
      "outputs": [
        {
          "output_type": "stream",
          "name": "stdout",
          "text": [
            "300 samples of Gender column\n",
            "Male 99.0% confidence interval:[9093.943597589929, 10681.503069076738]\n",
            "Male 99.0% range:1587.5594714868093\n",
            "Female 99.0% confidence interval:[8133.345271735851, 9601.55472826415]\n",
            "Female 99.0% range:1468.2094565282978\n",
            "\n",
            "\n"
          ]
        }
      ]
    },
    {
      "cell_type": "markdown",
      "source": [
        "*Sample Size: 3000*"
      ],
      "metadata": {
        "id": "vX6qHkXIb_wB"
      }
    },
    {
      "cell_type": "code",
      "source": [
        "sample_ci('Gender', 0.99, 3000)"
      ],
      "metadata": {
        "colab": {
          "base_uri": "https://localhost:8080/"
        },
        "outputId": "6c2a61f5-c39d-4be6-b273-2dd7baade5e7",
        "id": "eV4OOtFCb_wB"
      },
      "execution_count": null,
      "outputs": [
        {
          "output_type": "stream",
          "name": "stdout",
          "text": [
            "3000 samples of Gender column\n",
            "Male 99.0% confidence interval:[9401.80276642402, 9889.469233575981]\n",
            "Male 99.0% range:487.6664671519611\n",
            "Female 99.0% confidence interval:[8575.168036935633, 9037.859296397699]\n",
            "Female 99.0% range:462.6912594620662\n",
            "\n",
            "\n"
          ]
        }
      ]
    },
    {
      "cell_type": "markdown",
      "source": [
        "*Sample Size: 30000*"
      ],
      "metadata": {
        "id": "kz0vGrf1b_wB"
      }
    },
    {
      "cell_type": "code",
      "source": [
        "sample_ci('Gender', 0.99, 30000)"
      ],
      "metadata": {
        "colab": {
          "base_uri": "https://localhost:8080/"
        },
        "outputId": "a0b55d01-6d9e-4458-dd81-915ebc26ec7a",
        "id": "gacfvl7Qb_wC"
      },
      "execution_count": null,
      "outputs": [
        {
          "output_type": "stream",
          "name": "stdout",
          "text": [
            "30000 samples of Gender column\n",
            "Male 99.0% confidence interval:[9410.736113360614, 9563.09541997272]\n",
            "Male 99.0% range:152.3593066121066\n",
            "Female 99.0% confidence interval:[8585.485196103737, 8726.477737229596]\n",
            "Female 99.0% range:140.99254112585913\n",
            "\n",
            "\n"
          ]
        }
      ]
    },
    {
      "cell_type": "markdown",
      "source": [
        "*Insights*\n",
        "- The analysis emphasizes the significance of sample size in determining population parameters. It indicates that larger sample sizes lead to narrower and more precise confidence intervals. In a business context, this means that bigger sample sizes can yield more dependable insights and estimates.\n",
        "- There are overlaps found in the confidence intervals."
      ],
      "metadata": {
        "id": "Gd1qhhCUipNY"
      }
    }
  ]
}